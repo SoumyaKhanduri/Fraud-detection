{
 "cells": [
  {
   "cell_type": "markdown",
   "metadata": {},
   "source": [
    "## Importing libraries"
   ]
  },
  {
   "cell_type": "code",
   "execution_count": 1,
   "metadata": {},
   "outputs": [],
   "source": [
    "import pandas as pd\n",
    "import numpy as np\n",
    "import matplotlib.pyplot as plt\n",
    "import os\n",
    "\n",
    "import seaborn as sns\n",
    "from sklearn.model_selection import train_test_split\n",
    "from scipy.special import expit\n",
    "from sklearn.metrics import confusion_matrix\n",
    "from sklearn import svm\n",
    "import datetime\n"
   ]
  },
  {
   "cell_type": "markdown",
   "metadata": {},
   "source": [
    "## Importing the data, null ,describe and conversion of datatypes"
   ]
  },
  {
   "cell_type": "code",
   "execution_count": 2,
   "metadata": {},
   "outputs": [
    {
     "name": "stdout",
     "output_type": "stream",
     "text": [
      "<class 'pandas.core.frame.DataFrame'>\n",
      "RangeIndex: 76529 entries, 0 to 76528\n",
      "Data columns (total 11 columns):\n",
      " #   Column                    Non-Null Count  Dtype  \n",
      "---  ------                    --------------  -----  \n",
      " 0   transaction_number        76529 non-null  int64  \n",
      " 1   user_id                   76529 non-null  int64  \n",
      " 2   payment_method            76529 non-null  object \n",
      " 3   partner_id                76529 non-null  int64  \n",
      " 4   partner_category          76529 non-null  object \n",
      " 5   country                   76529 non-null  object \n",
      " 6   device_type               76529 non-null  object \n",
      " 7   money_transacted          76529 non-null  float64\n",
      " 8   transaction_initiation    76529 non-null  object \n",
      " 9   partner_pricing_category  76529 non-null  int64  \n",
      " 10  is_fraud                  76529 non-null  int64  \n",
      "dtypes: float64(1), int64(5), object(5)\n",
      "memory usage: 6.4+ MB\n",
      "None\n"
     ]
    }
   ],
   "source": [
    "os.chdir('C:/Users/soumya/Desktop/BI/Soumya - Projects')\n",
    "df = pd.read_csv('Fraud Detection.csv')\n",
    "print(df.info())"
   ]
  },
  {
   "cell_type": "code",
   "execution_count": 3,
   "metadata": {},
   "outputs": [
    {
     "name": "stdout",
     "output_type": "stream",
     "text": [
      "transaction_number          0\n",
      "user_id                     0\n",
      "payment_method              0\n",
      "partner_id                  0\n",
      "partner_category            0\n",
      "country                     0\n",
      "device_type                 0\n",
      "money_transacted            0\n",
      "transaction_initiation      0\n",
      "partner_pricing_category    0\n",
      "is_fraud                    0\n",
      "dtype: int64\n"
     ]
    }
   ],
   "source": [
    "print(df.isna().sum())"
   ]
  },
  {
   "cell_type": "code",
   "execution_count": 4,
   "metadata": {},
   "outputs": [],
   "source": [
    "df['partner_id'] = df['partner_id'].astype('category')\n",
    "df['partner_pricing_category'] = df['partner_pricing_category'].astype('category')\n",
    "df['user_id'] = df['user_id'].astype('object')\n",
    "df['transaction_number'] = df['transaction_number'].astype('object')\n",
    "df['transaction_initiation'] = pd.to_datetime(df['transaction_initiation'], infer_datetime_format=True)\n"
   ]
  },
  {
   "cell_type": "code",
   "execution_count": 5,
   "metadata": {},
   "outputs": [
    {
     "data": {
      "text/html": [
       "<div>\n",
       "<style scoped>\n",
       "    .dataframe tbody tr th:only-of-type {\n",
       "        vertical-align: middle;\n",
       "    }\n",
       "\n",
       "    .dataframe tbody tr th {\n",
       "        vertical-align: top;\n",
       "    }\n",
       "\n",
       "    .dataframe thead th {\n",
       "        text-align: right;\n",
       "    }\n",
       "</style>\n",
       "<table border=\"1\" class=\"dataframe\">\n",
       "  <thead>\n",
       "    <tr style=\"text-align: right;\">\n",
       "      <th></th>\n",
       "      <th>money_transacted</th>\n",
       "      <th>is_fraud</th>\n",
       "    </tr>\n",
       "  </thead>\n",
       "  <tbody>\n",
       "    <tr>\n",
       "      <th>count</th>\n",
       "      <td>76529.000000</td>\n",
       "      <td>76529.000000</td>\n",
       "    </tr>\n",
       "    <tr>\n",
       "      <th>mean</th>\n",
       "      <td>132.724348</td>\n",
       "      <td>0.002012</td>\n",
       "    </tr>\n",
       "    <tr>\n",
       "      <th>std</th>\n",
       "      <td>2350.110900</td>\n",
       "      <td>0.044814</td>\n",
       "    </tr>\n",
       "    <tr>\n",
       "      <th>min</th>\n",
       "      <td>-20000.000000</td>\n",
       "      <td>0.000000</td>\n",
       "    </tr>\n",
       "    <tr>\n",
       "      <th>25%</th>\n",
       "      <td>-1.000000</td>\n",
       "      <td>0.000000</td>\n",
       "    </tr>\n",
       "    <tr>\n",
       "      <th>50%</th>\n",
       "      <td>20.000000</td>\n",
       "      <td>0.000000</td>\n",
       "    </tr>\n",
       "    <tr>\n",
       "      <th>75%</th>\n",
       "      <td>52.000000</td>\n",
       "      <td>0.000000</td>\n",
       "    </tr>\n",
       "    <tr>\n",
       "      <th>max</th>\n",
       "      <td>197217.760000</td>\n",
       "      <td>1.000000</td>\n",
       "    </tr>\n",
       "  </tbody>\n",
       "</table>\n",
       "</div>"
      ],
      "text/plain": [
       "       money_transacted      is_fraud\n",
       "count      76529.000000  76529.000000\n",
       "mean         132.724348      0.002012\n",
       "std         2350.110900      0.044814\n",
       "min       -20000.000000      0.000000\n",
       "25%           -1.000000      0.000000\n",
       "50%           20.000000      0.000000\n",
       "75%           52.000000      0.000000\n",
       "max       197217.760000      1.000000"
      ]
     },
     "execution_count": 5,
     "metadata": {},
     "output_type": "execute_result"
    }
   ],
   "source": [
    "df.describe()"
   ]
  },
  {
   "cell_type": "code",
   "execution_count": 6,
   "metadata": {},
   "outputs": [
    {
     "data": {
      "text/plain": [
       "transaction_number          76529\n",
       "user_id                      3594\n",
       "payment_method                  6\n",
       "partner_id                     23\n",
       "partner_category                9\n",
       "country                         1\n",
       "device_type                     4\n",
       "money_transacted             1454\n",
       "transaction_initiation      75811\n",
       "partner_pricing_category        4\n",
       "is_fraud                        2\n",
       "dtype: int64"
      ]
     },
     "execution_count": 6,
     "metadata": {},
     "output_type": "execute_result"
    }
   ],
   "source": [
    "df.nunique()"
   ]
  },
  {
   "cell_type": "markdown",
   "metadata": {},
   "source": [
    "## Data Visulaization"
   ]
  },
  {
   "cell_type": "code",
   "execution_count": 7,
   "metadata": {},
   "outputs": [
    {
     "name": "stdout",
     "output_type": "stream",
     "text": [
      "  transaction_number   user_id          payment_method partner_id  \\\n",
      "0       144703125000  17539344  sbi_atm_cum_debit_card      47334   \n",
      "1     77406814453032  24710841       e_wallet_payments      78890   \n",
      "2    308929485482801  24265476       e_wallet_payments      78890   \n",
      "3    665270027747073  10240000       other_debit_cards     102557   \n",
      "4     38276160171101   5880625       other_debit_cards     118335   \n",
      "\n",
      "  partner_category  country      device_type  money_transacted  \\\n",
      "0            cat_1  IND_INR  android_devices              -5.0   \n",
      "1            cat_2  IND_INR        other_pcs             100.0   \n",
      "2            cat_2  IND_INR        other_pcs              50.0   \n",
      "3            cat_3  IND_INR        other_pcs            1000.0   \n",
      "4            cat_1  IND_INR        other_pcs             200.0   \n",
      "\n",
      "     transaction_initiation partner_pricing_category  is_fraud  \n",
      "0 2016-11-15 19:16:12+00:00                        2         0  \n",
      "1 2017-01-11 09:25:33+00:00                        2         0  \n",
      "2 2016-12-07 07:58:09+00:00                        2         0  \n",
      "3 2017-01-11 16:15:44+00:00                        2         0  \n",
      "4 2016-11-16 17:04:42+00:00                        2         0  \n",
      "(76529, 11)\n"
     ]
    }
   ],
   "source": [
    "print(df.head())\n",
    "print(df.shape)"
   ]
  },
  {
   "cell_type": "code",
   "execution_count": 8,
   "metadata": {},
   "outputs": [
    {
     "data": {
      "image/png": "[encoded data removed]",
      "text/plain": [
       "<Figure size 432x288 with 1 Axes>"
      ]
     },
     "metadata": {
      "needs_background": "light"
     },
     "output_type": "display_data"
    },
    {
     "name": "stdout",
     "output_type": "stream",
     "text": [
      "AxesSubplot(0.125,0.125;0.775x0.755)\n",
      "Total number of fraud 154\n"
     ]
    },
    {
     "data": {
      "image/png": "[encoded data removed]",
      "text/plain": [
       "<Figure size 432x288 with 1 Axes>"
      ]
     },
     "metadata": {
      "needs_background": "light"
     },
     "output_type": "display_data"
    }
   ],
   "source": [
    "sns.barplot(x='is_fraud', y=\"money_transacted\", data=df, estimator=np.mean)\n",
    "sns.color_palette(\"Set2\")\n",
    "plt.show()\n",
    "\n",
    "df.groupby('is_fraud').mean()\n",
    "\n",
    "print(df['is_fraud'].value_counts().plot(kind='bar'))\n",
    "# heavily imbalaned class . how to deal with it?\n",
    "\n",
    "a = df['is_fraud'].sum()\n",
    "print('Total number of fraud', a)\n",
    "plt.show()"
   ]
  },
  {
   "cell_type": "code",
   "execution_count": 9,
   "metadata": {},
   "outputs": [
    {
     "data": {
      "text/plain": [
       "Text(0.5, 1.0, 'Money_transacted vs. fraud')"
      ]
     },
     "execution_count": 9,
     "metadata": {},
     "output_type": "execute_result"
    },
    {
     "data": {
      "image/png": "[encoded data removed]",
      "text/plain": [
       "<Figure size 432x288 with 1 Axes>"
      ]
     },
     "metadata": {
      "needs_background": "light"
     },
     "output_type": "display_data"
    }
   ],
   "source": [
    "sns.boxplot(\n",
    "    data=df,\n",
    "    x='is_fraud',\n",
    "    y='money_transacted',\n",
    "    color='red')\n",
    "plt.title(\"Money_transacted vs. fraud\", size=20)"
   ]
  },
  {
   "cell_type": "code",
   "execution_count": 10,
   "metadata": {},
   "outputs": [],
   "source": [
    "df['Hours'] = pd.DatetimeIndex(df['transaction_initiation']).hour\n",
    "df['day'] = pd.DatetimeIndex(df['transaction_initiation']).day\n",
    "df['Hours'] = df['Hours'].astype('object')\n",
    "df['day'] = df['day'].astype('object')"
   ]
  },
  {
   "cell_type": "markdown",
   "metadata": {},
   "source": [
    "## Money transacted - distribution , credited, debited"
   ]
  },
  {
   "cell_type": "code",
   "execution_count": 11,
   "metadata": {},
   "outputs": [
    {
     "name": "stdout",
     "output_type": "stream",
     "text": [
      "AxesSubplot(0.125,0.125;0.775x0.755)\n"
     ]
    },
    {
     "data": {
      "image/png": "[encoded data removed]",
      "text/plain": [
       "<Figure size 432x288 with 1 Axes>"
      ]
     },
     "metadata": {
      "needs_background": "light"
     },
     "output_type": "display_data"
    },
    {
     "data": {
      "image/png": "[encoded data removed]",
      "text/plain": [
       "<Figure size 432x288 with 1 Axes>"
      ]
     },
     "metadata": {
      "needs_background": "light"
     },
     "output_type": "display_data"
    },
    {
     "data": {
      "image/png": "[encoded data removed]",
      "text/plain": [
       "<Figure size 432x288 with 1 Axes>"
      ]
     },
     "metadata": {
      "needs_background": "light"
     },
     "output_type": "display_data"
    },
    {
     "data": {
      "image/png": "[encoded data removed]",
      "text/plain": [
       "<Figure size 432x288 with 1 Axes>"
      ]
     },
     "metadata": {
      "needs_background": "light"
     },
     "output_type": "display_data"
    }
   ],
   "source": [
    "df_positive = df[df.money_transacted >= 0]\n",
    "\n",
    "print(sns.violinplot(df_positive.money_transacted))\n",
    "\n",
    "\n",
    "pd.crosstab(df_positive.device_type,df_positive.is_fraud).plot(kind='bar')\n",
    "plt.title('device_type and is_fraud when money is credited')\n",
    "plt.xlabel('device_type')\n",
    "plt.ylabel('is_fraud')\n",
    "plt.show()\n",
    "\n",
    "pd.crosstab(df_positive.partner_pricing_category,df_positive.is_fraud).plot(kind='bar')\n",
    "plt.title('partner_pricing_category and is_fraud when money is credited')\n",
    "plt.xlabel('partner_pricing_category')\n",
    "plt.ylabel('is_fraud')\n",
    "plt.show()\n",
    "\n",
    "pd.crosstab(df_positive.partner_category,df_positive.is_fraud).plot(kind='bar')\n",
    "plt.title('partner_category and is_fraud when money is credited')\n",
    "plt.xlabel('partner_category')\n",
    "plt.ylabel('is_fraud')\n",
    "plt.show()\n",
    "\n",
    "\n"
   ]
  },
  {
   "cell_type": "code",
   "execution_count": 12,
   "metadata": {},
   "outputs": [
    {
     "name": "stdout",
     "output_type": "stream",
     "text": [
      "AxesSubplot(0.125,0.125;0.775x0.755)\n"
     ]
    },
    {
     "data": {
      "image/png": "[encoded data removed]",
      "text/plain": [
       "<Figure size 432x288 with 1 Axes>"
      ]
     },
     "metadata": {
      "needs_background": "light"
     },
     "output_type": "display_data"
    },
    {
     "data": {
      "image/png": "[encoded data removed]",
      "text/plain": [
       "<Figure size 432x288 with 1 Axes>"
      ]
     },
     "metadata": {
      "needs_background": "light"
     },
     "output_type": "display_data"
    },
    {
     "data": {
      "image/png": "[encoded data removed]",
      "text/plain": [
       "<Figure size 432x288 with 1 Axes>"
      ]
     },
     "metadata": {
      "needs_background": "light"
     },
     "output_type": "display_data"
    },
    {
     "data": {
      "image/png": "[encoded data removed]",
      "text/plain": [
       "<Figure size 432x288 with 1 Axes>"
      ]
     },
     "metadata": {
      "needs_background": "light"
     },
     "output_type": "display_data"
    }
   ],
   "source": [
    "df_negative = df[df.money_transacted <= 0]\n",
    "\n",
    "print(sns.violinplot(df_negative.money_transacted))\n",
    "\n",
    "\n",
    "pd.crosstab(df_negative.device_type,df_negative.is_fraud).plot(kind='bar')\n",
    "plt.title('device_type and is_fraud when money is debited')\n",
    "plt.xlabel('device_type')\n",
    "plt.ylabel('is_fraud')\n",
    "plt.show()\n",
    "\n",
    "pd.crosstab(df_negative.partner_pricing_category,df_negative.is_fraud).plot(kind='bar')\n",
    "plt.title('partner_pricing_category and is_fraud when money is debited')\n",
    "plt.xlabel('partner_pricing_category')\n",
    "plt.ylabel('is_fraud')\n",
    "plt.show()\n",
    "\n",
    "pd.crosstab(df_negative.partner_category,df_negative.is_fraud).plot(kind='bar')\n",
    "plt.title('partner_category and is_fraud when money is debited')\n",
    "plt.xlabel('partner_category')\n",
    "plt.ylabel('is_fraud')\n",
    "plt.show()\n",
    "\n",
    "\n"
   ]
  },
  {
   "cell_type": "markdown",
   "metadata": {},
   "source": [
    "## Separating out numerical and categorical attributes\n"
   ]
  },
  {
   "cell_type": "code",
   "execution_count": 13,
   "metadata": {},
   "outputs": [
    {
     "name": "stdout",
     "output_type": "stream",
     "text": [
      "['transaction_number', 'user_id', 'payment_method', 'partner_id', 'partner_category', 'country', 'device_type', 'partner_pricing_category', 'Hours', 'day']\n",
      "['money_transacted', 'is_fraud']\n"
     ]
    }
   ],
   "source": [
    "cat_attr = list(df.select_dtypes(include=['category','object']).columns)\n",
    "num_attr = list(df.select_dtypes(include=['number']).columns)\n",
    "\n",
    "print(cat_attr)\n",
    "print(num_attr)"
   ]
  },
  {
   "cell_type": "markdown",
   "metadata": {},
   "source": [
    "## Removing irrelevant columns and splitting into Train and Test\n"
   ]
  },
  {
   "cell_type": "code",
   "execution_count": 15,
   "metadata": {},
   "outputs": [
    {
     "name": "stdout",
     "output_type": "stream",
     "text": [
      "0    0.997996\n",
      "1    0.002004\n",
      "Name: is_fraud, dtype: float64\n",
      "0    0.997962\n",
      "1    0.002038\n",
      "Name: is_fraud, dtype: float64\n"
     ]
    }
   ],
   "source": [
    "from sklearn.model_selection import train_test_split\n",
    "df['Fraud_Label'] = ['fraud' if x == 1 else 'Not_fraud' for x in df['is_fraud']]\n",
    "X = df.drop(['is_fraud','transaction_number','user_id','transaction_initiation','country','Fraud_Label'], axis=1)\n",
    "y = df['is_fraud']\n",
    "X_train, X_test, y_train, y_test = train_test_split(X, y, test_size=0.25, random_state=23, stratify = y)\n",
    "\n",
    "print(y_train.value_counts(normalize=True))\n",
    "print(y_test.value_counts(normalize=True))"
   ]
  },
  {
   "cell_type": "markdown",
   "metadata": {},
   "source": [
    "## Separating out numerical and categorical attributes\n"
   ]
  },
  {
   "cell_type": "code",
   "execution_count": 16,
   "metadata": {},
   "outputs": [
    {
     "name": "stdout",
     "output_type": "stream",
     "text": [
      "['payment_method', 'partner_id', 'partner_category', 'device_type', 'partner_pricing_category', 'Hours', 'day']\n",
      "['money_transacted']\n"
     ]
    }
   ],
   "source": [
    "cat_attr = list(X_train.select_dtypes(include=['category','object']).columns)\n",
    "num_attr = list(X_train.select_dtypes(include=['number']).columns)\n",
    "\n",
    "print(cat_attr)\n",
    "print(num_attr)"
   ]
  },
  {
   "cell_type": "markdown",
   "metadata": {},
   "source": [
    "## OHE & Standard scaling"
   ]
  },
  {
   "cell_type": "code",
   "execution_count": 17,
   "metadata": {},
   "outputs": [
    {
     "name": "stdout",
     "output_type": "stream",
     "text": [
      "['payment_method_e_wallet_payments', 'payment_method_other_debit_cards', 'payment_method_sbi_atm_cum_debit_card', 'payment_method_unified_payments_interface', 'payment_method_visa_master_credit_cards', 'payment_method_visa_master_debit_cards', 'partner_id_7889', 'partner_id_15778', 'partner_id_23667', 'partner_id_31556', 'partner_id_39445', 'partner_id_47334', 'partner_id_55223', 'partner_id_63112', 'partner_id_71001', 'partner_id_78890', 'partner_id_86779', 'partner_id_94668', 'partner_id_102557', 'partner_id_110446', 'partner_id_118335', 'partner_id_126224', 'partner_id_149891', 'partner_id_157780', 'partner_id_165669', 'partner_id_173558', 'partner_id_181447', 'partner_id_189336', 'partner_id_213003', 'partner_category_cat_1', 'partner_category_cat_2', 'partner_category_cat_3', 'partner_category_cat_4', 'partner_category_cat_5', 'partner_category_cat_6', 'partner_category_cat_7', 'partner_category_cat_8', 'partner_category_cat_9', 'device_type_android_devices', 'device_type_ios_devices', 'device_type_other_pcs', 'device_type_windows_pcs', 'partner_pricing_category_0', 'partner_pricing_category_1', 'partner_pricing_category_2', 'partner_pricing_category_4', 'Hours_0', 'Hours_1', 'Hours_2', 'Hours_3', 'Hours_4', 'Hours_5', 'Hours_6', 'Hours_7', 'Hours_8', 'Hours_9', 'Hours_10', 'Hours_11', 'Hours_12', 'Hours_13', 'Hours_14', 'Hours_15', 'Hours_16', 'Hours_17', 'Hours_18', 'Hours_19', 'Hours_20', 'Hours_21', 'Hours_22', 'Hours_23', 'day_1', 'day_2', 'day_3', 'day_4', 'day_5', 'day_6', 'day_7', 'day_8', 'day_9', 'day_10', 'day_11', 'day_12', 'day_13', 'day_14', 'day_15', 'day_16', 'day_17', 'day_18', 'day_19', 'day_20', 'day_21', 'day_22', 'day_23', 'day_24', 'day_25', 'day_26', 'day_27', 'day_28', 'day_29', 'day_30', 'day_31']\n"
     ]
    }
   ],
   "source": [
    "from sklearn.preprocessing import StandardScaler, OneHotEncoder\n",
    "ohe = OneHotEncoder(handle_unknown='error')\n",
    "\n",
    "ohe.fit(X_train[cat_attr])\n",
    "\n",
    "columns_ohe = list(ohe.get_feature_names(cat_attr))\n",
    "print(columns_ohe)\n",
    "\n",
    "X_train_cat = ohe.transform(X_train[cat_attr])\n",
    "X_test_cat = ohe.transform(X_test[cat_attr])\n",
    "\n",
    "X_train_cat = pd.DataFrame(X_train_cat.todense(), columns=columns_ohe)\n",
    "X_test_cat = pd.DataFrame(X_test_cat.todense(), columns=columns_ohe)"
   ]
  },
  {
   "cell_type": "code",
   "execution_count": 18,
   "metadata": {},
   "outputs": [],
   "source": [
    "from sklearn.preprocessing import StandardScaler\n",
    "\n",
    "scaler = StandardScaler()\n",
    "scaler.fit(X_train[num_attr])\n",
    "\n",
    "X_train_std = pd.DataFrame(scaler.transform(X_train[num_attr]), columns=num_attr)\n",
    "X_test_std = pd.DataFrame(scaler.transform(X_test[num_attr]), columns=num_attr)"
   ]
  },
  {
   "cell_type": "code",
   "execution_count": 19,
   "metadata": {},
   "outputs": [
    {
     "data": {
      "text/html": [
       "<div>\n",
       "<style scoped>\n",
       "    .dataframe tbody tr th:only-of-type {\n",
       "        vertical-align: middle;\n",
       "    }\n",
       "\n",
       "    .dataframe tbody tr th {\n",
       "        vertical-align: top;\n",
       "    }\n",
       "\n",
       "    .dataframe thead th {\n",
       "        text-align: right;\n",
       "    }\n",
       "</style>\n",
       "<table border=\"1\" class=\"dataframe\">\n",
       "  <thead>\n",
       "    <tr style=\"text-align: right;\">\n",
       "      <th></th>\n",
       "      <th>money_transacted</th>\n",
       "      <th>payment_method_e_wallet_payments</th>\n",
       "      <th>payment_method_other_debit_cards</th>\n",
       "      <th>payment_method_sbi_atm_cum_debit_card</th>\n",
       "      <th>payment_method_unified_payments_interface</th>\n",
       "      <th>payment_method_visa_master_credit_cards</th>\n",
       "      <th>payment_method_visa_master_debit_cards</th>\n",
       "      <th>partner_id_7889</th>\n",
       "      <th>partner_id_15778</th>\n",
       "      <th>partner_id_23667</th>\n",
       "      <th>...</th>\n",
       "      <th>day_22</th>\n",
       "      <th>day_23</th>\n",
       "      <th>day_24</th>\n",
       "      <th>day_25</th>\n",
       "      <th>day_26</th>\n",
       "      <th>day_27</th>\n",
       "      <th>day_28</th>\n",
       "      <th>day_29</th>\n",
       "      <th>day_30</th>\n",
       "      <th>day_31</th>\n",
       "    </tr>\n",
       "  </thead>\n",
       "  <tbody>\n",
       "    <tr>\n",
       "      <th>0</th>\n",
       "      <td>-0.048376</td>\n",
       "      <td>0.0</td>\n",
       "      <td>0.0</td>\n",
       "      <td>0.0</td>\n",
       "      <td>0.0</td>\n",
       "      <td>1.0</td>\n",
       "      <td>0.0</td>\n",
       "      <td>0.0</td>\n",
       "      <td>0.0</td>\n",
       "      <td>1.0</td>\n",
       "      <td>...</td>\n",
       "      <td>0.0</td>\n",
       "      <td>0.0</td>\n",
       "      <td>0.0</td>\n",
       "      <td>0.0</td>\n",
       "      <td>0.0</td>\n",
       "      <td>0.0</td>\n",
       "      <td>0.0</td>\n",
       "      <td>0.0</td>\n",
       "      <td>0.0</td>\n",
       "      <td>0.0</td>\n",
       "    </tr>\n",
       "    <tr>\n",
       "      <th>1</th>\n",
       "      <td>0.046175</td>\n",
       "      <td>0.0</td>\n",
       "      <td>1.0</td>\n",
       "      <td>0.0</td>\n",
       "      <td>0.0</td>\n",
       "      <td>0.0</td>\n",
       "      <td>0.0</td>\n",
       "      <td>0.0</td>\n",
       "      <td>0.0</td>\n",
       "      <td>0.0</td>\n",
       "      <td>...</td>\n",
       "      <td>0.0</td>\n",
       "      <td>0.0</td>\n",
       "      <td>0.0</td>\n",
       "      <td>0.0</td>\n",
       "      <td>0.0</td>\n",
       "      <td>0.0</td>\n",
       "      <td>1.0</td>\n",
       "      <td>0.0</td>\n",
       "      <td>0.0</td>\n",
       "      <td>0.0</td>\n",
       "    </tr>\n",
       "    <tr>\n",
       "      <th>2</th>\n",
       "      <td>-0.057009</td>\n",
       "      <td>0.0</td>\n",
       "      <td>0.0</td>\n",
       "      <td>1.0</td>\n",
       "      <td>0.0</td>\n",
       "      <td>0.0</td>\n",
       "      <td>0.0</td>\n",
       "      <td>0.0</td>\n",
       "      <td>0.0</td>\n",
       "      <td>0.0</td>\n",
       "      <td>...</td>\n",
       "      <td>0.0</td>\n",
       "      <td>0.0</td>\n",
       "      <td>0.0</td>\n",
       "      <td>0.0</td>\n",
       "      <td>0.0</td>\n",
       "      <td>0.0</td>\n",
       "      <td>0.0</td>\n",
       "      <td>0.0</td>\n",
       "      <td>0.0</td>\n",
       "      <td>0.0</td>\n",
       "    </tr>\n",
       "    <tr>\n",
       "      <th>3</th>\n",
       "      <td>-0.163481</td>\n",
       "      <td>0.0</td>\n",
       "      <td>0.0</td>\n",
       "      <td>1.0</td>\n",
       "      <td>0.0</td>\n",
       "      <td>0.0</td>\n",
       "      <td>0.0</td>\n",
       "      <td>0.0</td>\n",
       "      <td>0.0</td>\n",
       "      <td>0.0</td>\n",
       "      <td>...</td>\n",
       "      <td>0.0</td>\n",
       "      <td>0.0</td>\n",
       "      <td>0.0</td>\n",
       "      <td>0.0</td>\n",
       "      <td>0.0</td>\n",
       "      <td>0.0</td>\n",
       "      <td>0.0</td>\n",
       "      <td>0.0</td>\n",
       "      <td>0.0</td>\n",
       "      <td>0.0</td>\n",
       "    </tr>\n",
       "    <tr>\n",
       "      <th>4</th>\n",
       "      <td>-0.041799</td>\n",
       "      <td>1.0</td>\n",
       "      <td>0.0</td>\n",
       "      <td>0.0</td>\n",
       "      <td>0.0</td>\n",
       "      <td>0.0</td>\n",
       "      <td>0.0</td>\n",
       "      <td>0.0</td>\n",
       "      <td>0.0</td>\n",
       "      <td>1.0</td>\n",
       "      <td>...</td>\n",
       "      <td>0.0</td>\n",
       "      <td>0.0</td>\n",
       "      <td>0.0</td>\n",
       "      <td>0.0</td>\n",
       "      <td>0.0</td>\n",
       "      <td>0.0</td>\n",
       "      <td>0.0</td>\n",
       "      <td>0.0</td>\n",
       "      <td>0.0</td>\n",
       "      <td>0.0</td>\n",
       "    </tr>\n",
       "  </tbody>\n",
       "</table>\n",
       "<p>5 rows × 102 columns</p>\n",
       "</div>"
      ],
      "text/plain": [
       "   money_transacted  payment_method_e_wallet_payments  \\\n",
       "0         -0.048376                               0.0   \n",
       "1          0.046175                               0.0   \n",
       "2         -0.057009                               0.0   \n",
       "3         -0.163481                               0.0   \n",
       "4         -0.041799                               1.0   \n",
       "\n",
       "   payment_method_other_debit_cards  payment_method_sbi_atm_cum_debit_card  \\\n",
       "0                               0.0                                    0.0   \n",
       "1                               1.0                                    0.0   \n",
       "2                               0.0                                    1.0   \n",
       "3                               0.0                                    1.0   \n",
       "4                               0.0                                    0.0   \n",
       "\n",
       "   payment_method_unified_payments_interface  \\\n",
       "0                                        0.0   \n",
       "1                                        0.0   \n",
       "2                                        0.0   \n",
       "3                                        0.0   \n",
       "4                                        0.0   \n",
       "\n",
       "   payment_method_visa_master_credit_cards  \\\n",
       "0                                      1.0   \n",
       "1                                      0.0   \n",
       "2                                      0.0   \n",
       "3                                      0.0   \n",
       "4                                      0.0   \n",
       "\n",
       "   payment_method_visa_master_debit_cards  partner_id_7889  partner_id_15778  \\\n",
       "0                                     0.0              0.0               0.0   \n",
       "1                                     0.0              0.0               0.0   \n",
       "2                                     0.0              0.0               0.0   \n",
       "3                                     0.0              0.0               0.0   \n",
       "4                                     0.0              0.0               0.0   \n",
       "\n",
       "   partner_id_23667  ...  day_22  day_23  day_24  day_25  day_26  day_27  \\\n",
       "0               1.0  ...     0.0     0.0     0.0     0.0     0.0     0.0   \n",
       "1               0.0  ...     0.0     0.0     0.0     0.0     0.0     0.0   \n",
       "2               0.0  ...     0.0     0.0     0.0     0.0     0.0     0.0   \n",
       "3               0.0  ...     0.0     0.0     0.0     0.0     0.0     0.0   \n",
       "4               1.0  ...     0.0     0.0     0.0     0.0     0.0     0.0   \n",
       "\n",
       "   day_28  day_29  day_30  day_31  \n",
       "0     0.0     0.0     0.0     0.0  \n",
       "1     1.0     0.0     0.0     0.0  \n",
       "2     0.0     0.0     0.0     0.0  \n",
       "3     0.0     0.0     0.0     0.0  \n",
       "4     0.0     0.0     0.0     0.0  \n",
       "\n",
       "[5 rows x 102 columns]"
      ]
     },
     "execution_count": 19,
     "metadata": {},
     "output_type": "execute_result"
    }
   ],
   "source": [
    "X_train_preprocessed = pd.concat([X_train_std, X_train_cat], axis=1)\n",
    "X_test_preprocessed = pd.concat([X_test_std, X_test_cat], axis=1)\n",
    "X_train_preprocessed.head()"
   ]
  },
  {
   "cell_type": "markdown",
   "metadata": {},
   "source": [
    "## LOGISTIC REGRESSION"
   ]
  },
  {
   "cell_type": "code",
   "execution_count": 24,
   "metadata": {},
   "outputs": [
    {
     "name": "stdout",
     "output_type": "stream",
     "text": [
      "[0 0 0 ... 0 0 0]\n",
      "[0 0 0 ... 0 0 0]\n"
     ]
    }
   ],
   "source": [
    "from sklearn.linear_model import LogisticRegression\n",
    "\n",
    "lg = LogisticRegression()\n",
    "\n",
    "lg.fit(X_train_preprocessed,y_train)\n",
    "\n",
    "y_train_pred = lg.predict(X_train_preprocessed)\n",
    "y_test_pred = lg.predict(X_test_preprocessed)\n",
    "\n",
    "\n",
    "print(y_train_pred)\n",
    "print(y_test_pred)"
   ]
  },
  {
   "cell_type": "code",
   "execution_count": 25,
   "metadata": {},
   "outputs": [
    {
     "name": "stdout",
     "output_type": "stream",
     "text": [
      "              precision    recall  f1-score   support\n",
      "\n",
      "           0       1.00      1.00      1.00     19094\n",
      "           1       0.69      0.23      0.35        39\n",
      "\n",
      "    accuracy                           1.00     19133\n",
      "   macro avg       0.85      0.62      0.67     19133\n",
      "weighted avg       1.00      1.00      1.00     19133\n",
      "\n"
     ]
    }
   ],
   "source": [
    "from sklearn.metrics import classification_report\n",
    "print(classification_report(y_test, y_test_pred))"
   ]
  },
  {
   "cell_type": "markdown",
   "metadata": {},
   "source": [
    "## RandomForestClassifier "
   ]
  },
  {
   "cell_type": "code",
   "execution_count": 29,
   "metadata": {},
   "outputs": [
    {
     "name": "stdout",
     "output_type": "stream",
     "text": [
      "[0 0 0 ... 0 0 0]\n",
      "[0 0 0 ... 0 0 0]\n"
     ]
    }
   ],
   "source": [
    "from sklearn.ensemble import RandomForestClassifier\n",
    "\n",
    "rf_model = RandomForestClassifier(bootstrap=True, ccp_alpha=0.0, class_weight=None,\n",
    "                       criterion='gini', max_depth=10, max_features=3,\n",
    "                       max_leaf_nodes=None, max_samples=None,\n",
    "                       min_impurity_decrease=0.0, min_impurity_split=None,\n",
    "                       min_samples_leaf=1, min_samples_split=2,\n",
    "                       min_weight_fraction_leaf=0.0, n_estimators=50,\n",
    "                       n_jobs=None, oob_score=True, random_state=None,\n",
    "                       verbose=0, warm_start=False)\n",
    "rf_model.fit(X_train_preprocessed, y_train)\n",
    "\n",
    "y_train_pred = rf_model.predict(X_test_preprocessed)\n",
    "y_test_pred = rf_model.predict(X_test_preprocessed)\n",
    "print(y_train_pred)\n",
    "print(y_test_pred)"
   ]
  },
  {
   "cell_type": "code",
   "execution_count": 30,
   "metadata": {},
   "outputs": [
    {
     "name": "stdout",
     "output_type": "stream",
     "text": [
      "[[19094     0]\n",
      " [   39     0]]\n",
      "Classification Report for random: \n",
      "               precision    recall  f1-score   support\n",
      "\n",
      "           0       1.00      1.00      1.00     19094\n",
      "           1       0.00      0.00      0.00        39\n",
      "\n",
      "    accuracy                           1.00     19133\n",
      "   macro avg       0.50      0.50      0.50     19133\n",
      "weighted avg       1.00      1.00      1.00     19133\n",
      "\n"
     ]
    },
    {
     "name": "stderr",
     "output_type": "stream",
     "text": [
      "C:\\Users\\soumya\\anaconda3\\lib\\site-packages\\sklearn\\metrics\\_classification.py:1221: UndefinedMetricWarning: Precision and F-score are ill-defined and being set to 0.0 in labels with no predicted samples. Use `zero_division` parameter to control this behavior.\n",
      "  _warn_prf(average, modifier, msg_start, len(result))\n"
     ]
    }
   ],
   "source": [
    "from sklearn.metrics import confusion_matrix\n",
    "confusion_matrix = confusion_matrix(y_test, y_test_pred)\n",
    "print(confusion_matrix)\n",
    "print(\"Classification Report for random: \\n\", classification_report(y_test, y_test_pred))"
   ]
  },
  {
   "cell_type": "code",
   "execution_count": null,
   "metadata": {},
   "outputs": [],
   "source": []
  }
 ],
 "metadata": {
  "kernelspec": {
   "display_name": "Python 3",
   "language": "python",
   "name": "python3"
  },
  "language_info": {
   "codemirror_mode": {
    "name": "ipython",
    "version": 3
   },
   "file_extension": ".py",
   "mimetype": "text/x-python",
   "name": "python",
   "nbconvert_exporter": "python",
   "pygments_lexer": "ipython3",
   "version": "3.8.3"
  }
 },
 "nbformat": 4,
 "nbformat_minor": 4
}
